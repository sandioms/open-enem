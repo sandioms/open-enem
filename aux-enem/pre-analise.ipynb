{
 "cells": [
  {
   "cell_type": "code",
   "execution_count": 1,
   "id": "21cb854a-be41-4885-a662-0872182e1f52",
   "metadata": {},
   "outputs": [],
   "source": [
    "import pandas as pd"
   ]
  },
  {
   "cell_type": "code",
   "execution_count": 4,
   "id": "34cce792-9631-4ee7-b485-92eeec4855fe",
   "metadata": {},
   "outputs": [
    {
     "name": "stdout",
     "output_type": "stream",
     "text": [
      "0\n",
      "1\n",
      "2\n"
     ]
    }
   ],
   "source": [
    "ano = [19, 20, 21]\n",
    "\n",
    "publica = pd.DataFrame()\n",
    "privada = pd.DataFrame()\n",
    "geral = pd.DataFrame()\n",
    "\n",
    "aux_publica= list()\n",
    "aux_privada= list()\n",
    "aux_geral= list()\n",
    "\n",
    "for i in range(len(ano)):\n",
    "    \n",
    "    print(i)\n",
    "\n",
    "    data = pd.read_csv('D:dataset/enem/microdados_enem_20{}/DADOS/dados_enem_20{}.csv'.format(ano[i], ano[i]), sep=';')\n",
    "\n",
    "    dat = data[(data['CO_UF_PROVA'].isna() == False)]\n",
    "    groub1 = dat.groupby(by=['CO_UF_PROVA'])['TP_DEPENDENCIA_ADM_ESC'].size()\n",
    "    groub1 = groub1.reset_index()\n",
    "    groub1['Ano'] = '20{}'.format(ano[i])\n",
    "    groub1.set_index('Ano', inplace=True)\n",
    "    aux_geral.append(groub1)\n",
    "    geral = pd.concat([geral, aux_geral[i]])\n",
    "    \n",
    "    dat = data[(data['CO_UF_PROVA'].isna() == False) & (data['TP_DEPENDENCIA_ADM_ESC'] != 4.0)]\n",
    "    groub1 = dat.groupby(by=['CO_UF_PROVA']).size()\n",
    "    groub1 = groub1.reset_index()\n",
    "    aux_publica.append(groub1)\n",
    "    publica = pd.concat([publica, aux_publica[i]])\n",
    "    \n",
    "    dat = data[(data['CO_UF_PROVA'].isna() == False) & (data['TP_DEPENDENCIA_ADM_ESC'] == 4.0)]\n",
    "    groub1 = dat.groupby(by=['CO_UF_PROVA']).size()\n",
    "    groub1 = groub1.reset_index()\n",
    "    aux_privada.append(groub1)\n",
    "    privada = pd.concat([privada, aux_privada[i]])\n",
    "\n",
    "\n",
    "geral.rename(columns={'TP_DEPENDENCIA_ADM_ESC': 'TP_ADM_GERAL'}, inplace=True)\n",
    "geral['TP_ADM_PUBLICA'] = publica.iloc[:, 1].values\n",
    "geral['TP_ADM_PRIVADA'] = privada.iloc[:, 1].values\n",
    "geral.to_csv('data/enem_tp_adm.csv', sep=',')"
   ]
  }
 ],
 "metadata": {
  "kernelspec": {
   "display_name": "Python 3 (ipykernel)",
   "language": "python",
   "name": "python3"
  },
  "language_info": {
   "codemirror_mode": {
    "name": "ipython",
    "version": 3
   },
   "file_extension": ".py",
   "mimetype": "text/x-python",
   "name": "python",
   "nbconvert_exporter": "python",
   "pygments_lexer": "ipython3",
   "version": "3.10.6"
  }
 },
 "nbformat": 4,
 "nbformat_minor": 5
}
