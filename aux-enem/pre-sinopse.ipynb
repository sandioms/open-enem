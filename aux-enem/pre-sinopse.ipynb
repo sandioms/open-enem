{
 "cells": [
  {
   "cell_type": "code",
   "execution_count": 1,
   "id": "ba30ea45-43eb-4807-b70f-45f1ed90e03e",
   "metadata": {},
   "outputs": [],
   "source": [
    "import pandas as pd\n",
    "import zipfile\n",
    "import numpy as np"
   ]
  },
  {
   "cell_type": "code",
   "execution_count": 10,
   "id": "977a77b7-7744-4e30-8f91-010133064a06",
   "metadata": {},
   "outputs": [
    {
     "name": "stdout",
     "output_type": "stream",
     "text": [
      "Iteração  0 ano 2009\n",
      "Iteração  1 ano 2010\n",
      "Iteração  2 ano 2011\n",
      "Iteração  3 ano 2012\n",
      "Iteração  4 ano 2013\n",
      "Iteração  5 ano 2014\n",
      "Iteração  6 ano 2015\n",
      "Iteração  7 ano 2016\n",
      "Iteração  8 ano 2017\n",
      "Iteração  9 ano 2018\n",
      "Iteração  10 ano 2019\n",
      "Iteração  11 ano 2020\n",
      "Iteração  12 ano 2021\n"
     ]
    }
   ],
   "source": [
    "idx = ['09', '10', '11', '12', '13', '14', '15', '16', '17', '18', '19', '20', '21']\n",
    "array = np.ndarray([len(idx), 9], dtype=object)\n",
    "\n",
    "for i in range(len(idx)):\n",
    "    \n",
    "    values = 0\n",
    "    print('Iteração ',i, 'ano 20{}'.format(idx[i]))\n",
    "    \n",
    "    file = zipfile.ZipFile('D:/dataset/sinopse/Sinopse_Enem20{}.zip'.format(idx[i]),  mode='r')\n",
    "    data = file.read('Sinopse ENEM 20{}.xlsx'.format(idx[i]))\n",
    "    \n",
    "    df = pd.read_excel(data, sheet_name='1.4')\n",
    "    values = df[df.iloc[:, 0] == 'Brasil'].values\n",
    "    # array[i, :] = values[0]\n",
    "    \n",
    "    if len(values[0]) > 9:\n",
    "        array[i, :] = values[0][:-1]\n",
    "    else:\n",
    "        array[i, :] = values[0]\n",
    "    \n",
    "    present =  '2009'\n",
    "    new_date = pd.to_datetime(present)+pd.DateOffset(years= i)\n",
    "    array[i, 1] = new_date\n",
    "    \n",
    "# dat = pd.DataFrame(data=array, columns=['local', 'date', 'inscritos'])\n",
    "dat = pd.DataFrame(data=array, columns=['local', 'date', 'total', 'Não Declarada', 'Branca', 'Preta', 'Parda', 'Amarela', 'Indígena'])\n",
    "dat.to_csv('data/serie_historica_inscritos_enem_brasil_cor_raca.csv', sep=',', index=False)"
   ]
  }
 ],
 "metadata": {
  "kernelspec": {
   "display_name": "Python 3 (ipykernel)",
   "language": "python",
   "name": "python3"
  },
  "language_info": {
   "codemirror_mode": {
    "name": "ipython",
    "version": 3
   },
   "file_extension": ".py",
   "mimetype": "text/x-python",
   "name": "python",
   "nbconvert_exporter": "python",
   "pygments_lexer": "ipython3",
   "version": "3.10.6"
  }
 },
 "nbformat": 4,
 "nbformat_minor": 5
}
