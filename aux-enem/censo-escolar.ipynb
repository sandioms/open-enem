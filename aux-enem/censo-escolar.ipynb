{
 "cells": [
  {
   "cell_type": "code",
   "execution_count": 1,
   "id": "b750025f-8c50-41c3-b491-fd6bd86dc002",
   "metadata": {},
   "outputs": [],
   "source": [
    "import pandas as pd"
   ]
  },
  {
   "cell_type": "code",
   "execution_count": 2,
   "id": "696c5f9c-ad98-4dee-9b6f-8ad082cc0450",
   "metadata": {},
   "outputs": [],
   "source": [
    "label_escola = ['CO_UF',\n",
    "                'CO_MESORREGIAO',\n",
    "                'CO_MUNICIPIO',\n",
    "                'CO_ENTIDADE',\n",
    "                'TP_DEPENDENCIA',\n",
    "                'TP_LOCALIZACAO',\n",
    "                'TP_OCUPACAO_PREDIO_ESCOLAR',\n",
    "                'IN_ESGOTO_INEXISTENTE',\n",
    "                'IN_LIXO_SERVICO_COLETA',\n",
    "                'IN_BANHEIRO',\n",
    "                'IN_REFEITORIO',\n",
    "                'QT_SALAS_EXISTENTES',\n",
    "                'QT_SALAS_UTILIZADAS_DENTRO',\n",
    "                'IN_DESKTOP_ALUNO',\n",
    "                'QT_DESKTOP_ALUNO',\n",
    "                'IN_COMP_PORTATIL_ALUNO',\n",
    "                'QT_COMP_PORTATIL_ALUNO',\n",
    "                'IN_TABLET_ALUNO',\n",
    "                'QT_TABLET_ALUNO',\n",
    "                'QT_COMPUTADOR',\n",
    "                'QT_COMP_ADMINISTRATIVO',\n",
    "                'IN_INTERNET',\n",
    "                'IN_INTERNET_ALUNOS',\n",
    "                'QT_MAT_MED',\n",
    "                'QT_MAT_MED_INT']"
   ]
  },
  {
   "cell_type": "code",
   "execution_count": 3,
   "id": "08bbb65a-ac81-4436-ae39-1074cb3fe0ab",
   "metadata": {},
   "outputs": [],
   "source": [
    "id = 20"
   ]
  },
  {
   "cell_type": "markdown",
   "id": "cf6d05d7-c569-40fc-9622-739c8cb06971",
   "metadata": {},
   "source": [
    "# Ler dados"
   ]
  },
  {
   "cell_type": "code",
   "execution_count": 4,
   "id": "e04f6b07-95aa-446e-8074-640598fe95ff",
   "metadata": {},
   "outputs": [],
   "source": [
    "escolas = pd.read_csv('D:dataset/censo_escolar/microdados_censo_escolar_20{}/20{}/dados/microdados_ed_basica_20{}.csv'.format(id, id, id), sep=';', usecols=label_escola, encoding = \"ISO-8859-1\")"
   ]
  },
  {
   "cell_type": "markdown",
   "id": "a81baec6-5fc8-4447-8a8b-44c0974fca17",
   "metadata": {},
   "source": [
    "# Selecionar estado"
   ]
  },
  {
   "cell_type": "code",
   "execution_count": 36,
   "id": "dd85f9b6-4c48-4620-a596-0fad3d139b27",
   "metadata": {},
   "outputs": [],
   "source": [
    "escolas  = escolas[(escolas['CO_UF'] == 15)]"
   ]
  },
  {
   "cell_type": "markdown",
   "id": "ad7c0b69-a232-4fd2-a492-e408d611f5fd",
   "metadata": {},
   "source": [
    "# Plot data"
   ]
  },
  {
   "cell_type": "code",
   "execution_count": 5,
   "id": "fb92f2cc-3e07-4d53-8519-39b317b526f9",
   "metadata": {},
   "outputs": [
    {
     "data": {
      "text/html": [
       "<div>\n",
       "<style scoped>\n",
       "    .dataframe tbody tr th:only-of-type {\n",
       "        vertical-align: middle;\n",
       "    }\n",
       "\n",
       "    .dataframe tbody tr th {\n",
       "        vertical-align: top;\n",
       "    }\n",
       "\n",
       "    .dataframe thead th {\n",
       "        text-align: right;\n",
       "    }\n",
       "</style>\n",
       "<table border=\"1\" class=\"dataframe\">\n",
       "  <thead>\n",
       "    <tr style=\"text-align: right;\">\n",
       "      <th></th>\n",
       "      <th>CO_UF</th>\n",
       "      <th>CO_MUNICIPIO</th>\n",
       "      <th>CO_MESORREGIAO</th>\n",
       "      <th>CO_ENTIDADE</th>\n",
       "      <th>TP_DEPENDENCIA</th>\n",
       "      <th>TP_LOCALIZACAO</th>\n",
       "      <th>TP_OCUPACAO_PREDIO_ESCOLAR</th>\n",
       "      <th>IN_ESGOTO_INEXISTENTE</th>\n",
       "      <th>IN_LIXO_SERVICO_COLETA</th>\n",
       "      <th>IN_BANHEIRO</th>\n",
       "      <th>...</th>\n",
       "      <th>IN_COMP_PORTATIL_ALUNO</th>\n",
       "      <th>QT_COMP_PORTATIL_ALUNO</th>\n",
       "      <th>IN_TABLET_ALUNO</th>\n",
       "      <th>QT_TABLET_ALUNO</th>\n",
       "      <th>QT_COMPUTADOR</th>\n",
       "      <th>QT_COMP_ADMINISTRATIVO</th>\n",
       "      <th>IN_INTERNET</th>\n",
       "      <th>IN_INTERNET_ALUNOS</th>\n",
       "      <th>QT_MAT_MED</th>\n",
       "      <th>QT_MAT_MED_INT</th>\n",
       "    </tr>\n",
       "  </thead>\n",
       "  <tbody>\n",
       "    <tr>\n",
       "      <th>0</th>\n",
       "      <td>11</td>\n",
       "      <td>1100015</td>\n",
       "      <td>1102</td>\n",
       "      <td>11022558</td>\n",
       "      <td>2</td>\n",
       "      <td>2</td>\n",
       "      <td>1.0</td>\n",
       "      <td>1.0</td>\n",
       "      <td>0.0</td>\n",
       "      <td>1.0</td>\n",
       "      <td>...</td>\n",
       "      <td>0.0</td>\n",
       "      <td>0.0</td>\n",
       "      <td>0.0</td>\n",
       "      <td>0.0</td>\n",
       "      <td>NaN</td>\n",
       "      <td>NaN</td>\n",
       "      <td>0.0</td>\n",
       "      <td>0.0</td>\n",
       "      <td>0.0</td>\n",
       "      <td>0.0</td>\n",
       "    </tr>\n",
       "    <tr>\n",
       "      <th>1</th>\n",
       "      <td>11</td>\n",
       "      <td>1100015</td>\n",
       "      <td>1102</td>\n",
       "      <td>11024275</td>\n",
       "      <td>2</td>\n",
       "      <td>1</td>\n",
       "      <td>1.0</td>\n",
       "      <td>0.0</td>\n",
       "      <td>1.0</td>\n",
       "      <td>1.0</td>\n",
       "      <td>...</td>\n",
       "      <td>1.0</td>\n",
       "      <td>4.0</td>\n",
       "      <td>0.0</td>\n",
       "      <td>0.0</td>\n",
       "      <td>NaN</td>\n",
       "      <td>NaN</td>\n",
       "      <td>1.0</td>\n",
       "      <td>1.0</td>\n",
       "      <td>0.0</td>\n",
       "      <td>0.0</td>\n",
       "    </tr>\n",
       "    <tr>\n",
       "      <th>2</th>\n",
       "      <td>11</td>\n",
       "      <td>1100015</td>\n",
       "      <td>1102</td>\n",
       "      <td>11024291</td>\n",
       "      <td>3</td>\n",
       "      <td>2</td>\n",
       "      <td>1.0</td>\n",
       "      <td>0.0</td>\n",
       "      <td>0.0</td>\n",
       "      <td>1.0</td>\n",
       "      <td>...</td>\n",
       "      <td>0.0</td>\n",
       "      <td>0.0</td>\n",
       "      <td>0.0</td>\n",
       "      <td>0.0</td>\n",
       "      <td>NaN</td>\n",
       "      <td>NaN</td>\n",
       "      <td>0.0</td>\n",
       "      <td>0.0</td>\n",
       "      <td>0.0</td>\n",
       "      <td>0.0</td>\n",
       "    </tr>\n",
       "    <tr>\n",
       "      <th>3</th>\n",
       "      <td>11</td>\n",
       "      <td>1100015</td>\n",
       "      <td>1102</td>\n",
       "      <td>11024372</td>\n",
       "      <td>3</td>\n",
       "      <td>1</td>\n",
       "      <td>1.0</td>\n",
       "      <td>0.0</td>\n",
       "      <td>1.0</td>\n",
       "      <td>1.0</td>\n",
       "      <td>...</td>\n",
       "      <td>0.0</td>\n",
       "      <td>0.0</td>\n",
       "      <td>0.0</td>\n",
       "      <td>0.0</td>\n",
       "      <td>NaN</td>\n",
       "      <td>NaN</td>\n",
       "      <td>1.0</td>\n",
       "      <td>0.0</td>\n",
       "      <td>0.0</td>\n",
       "      <td>0.0</td>\n",
       "    </tr>\n",
       "    <tr>\n",
       "      <th>4</th>\n",
       "      <td>11</td>\n",
       "      <td>1100015</td>\n",
       "      <td>1102</td>\n",
       "      <td>11024402</td>\n",
       "      <td>3</td>\n",
       "      <td>2</td>\n",
       "      <td>NaN</td>\n",
       "      <td>NaN</td>\n",
       "      <td>NaN</td>\n",
       "      <td>NaN</td>\n",
       "      <td>...</td>\n",
       "      <td>NaN</td>\n",
       "      <td>NaN</td>\n",
       "      <td>NaN</td>\n",
       "      <td>NaN</td>\n",
       "      <td>NaN</td>\n",
       "      <td>NaN</td>\n",
       "      <td>NaN</td>\n",
       "      <td>NaN</td>\n",
       "      <td>NaN</td>\n",
       "      <td>NaN</td>\n",
       "    </tr>\n",
       "  </tbody>\n",
       "</table>\n",
       "<p>5 rows × 25 columns</p>\n",
       "</div>"
      ],
      "text/plain": [
       "   CO_UF  CO_MUNICIPIO  CO_MESORREGIAO  CO_ENTIDADE  TP_DEPENDENCIA  \\\n",
       "0     11       1100015            1102     11022558               2   \n",
       "1     11       1100015            1102     11024275               2   \n",
       "2     11       1100015            1102     11024291               3   \n",
       "3     11       1100015            1102     11024372               3   \n",
       "4     11       1100015            1102     11024402               3   \n",
       "\n",
       "   TP_LOCALIZACAO  TP_OCUPACAO_PREDIO_ESCOLAR  IN_ESGOTO_INEXISTENTE  \\\n",
       "0               2                         1.0                    1.0   \n",
       "1               1                         1.0                    0.0   \n",
       "2               2                         1.0                    0.0   \n",
       "3               1                         1.0                    0.0   \n",
       "4               2                         NaN                    NaN   \n",
       "\n",
       "   IN_LIXO_SERVICO_COLETA  IN_BANHEIRO  ...  IN_COMP_PORTATIL_ALUNO  \\\n",
       "0                     0.0          1.0  ...                     0.0   \n",
       "1                     1.0          1.0  ...                     1.0   \n",
       "2                     0.0          1.0  ...                     0.0   \n",
       "3                     1.0          1.0  ...                     0.0   \n",
       "4                     NaN          NaN  ...                     NaN   \n",
       "\n",
       "   QT_COMP_PORTATIL_ALUNO  IN_TABLET_ALUNO  QT_TABLET_ALUNO  QT_COMPUTADOR  \\\n",
       "0                     0.0              0.0              0.0            NaN   \n",
       "1                     4.0              0.0              0.0            NaN   \n",
       "2                     0.0              0.0              0.0            NaN   \n",
       "3                     0.0              0.0              0.0            NaN   \n",
       "4                     NaN              NaN              NaN            NaN   \n",
       "\n",
       "   QT_COMP_ADMINISTRATIVO  IN_INTERNET  IN_INTERNET_ALUNOS  QT_MAT_MED  \\\n",
       "0                     NaN          0.0                 0.0         0.0   \n",
       "1                     NaN          1.0                 1.0         0.0   \n",
       "2                     NaN          0.0                 0.0         0.0   \n",
       "3                     NaN          1.0                 0.0         0.0   \n",
       "4                     NaN          NaN                 NaN         NaN   \n",
       "\n",
       "   QT_MAT_MED_INT  \n",
       "0             0.0  \n",
       "1             0.0  \n",
       "2             0.0  \n",
       "3             0.0  \n",
       "4             NaN  \n",
       "\n",
       "[5 rows x 25 columns]"
      ]
     },
     "execution_count": 5,
     "metadata": {},
     "output_type": "execute_result"
    }
   ],
   "source": [
    "escolas.head()"
   ]
  },
  {
   "cell_type": "markdown",
   "id": "1b560bf4-1326-4a52-a54d-d7d95fb84c6f",
   "metadata": {},
   "source": [
    "# Selecionar ensino médio"
   ]
  },
  {
   "cell_type": "code",
   "execution_count": 6,
   "id": "20e573b9-b111-4cf4-a847-ff044291cac2",
   "metadata": {},
   "outputs": [],
   "source": [
    "df = escolas[escolas['QT_MAT_MED'] > 0.0] "
   ]
  },
  {
   "cell_type": "markdown",
   "id": "f64d1598-1884-4ac1-86d1-46da8bcecda5",
   "metadata": {},
   "source": [
    "# Mapear os dados "
   ]
  },
  {
   "cell_type": "code",
   "execution_count": 39,
   "id": "42076b8c-b554-488b-9367-3944ccaf2f9b",
   "metadata": {},
   "outputs": [
    {
     "name": "stderr",
     "output_type": "stream",
     "text": [
      "C:\\Users\\sandi\\AppData\\Local\\Temp\\ipykernel_1332\\2822825335.py:1: SettingWithCopyWarning: \n",
      "A value is trying to be set on a copy of a slice from a DataFrame.\n",
      "Try using .loc[row_indexer,col_indexer] = value instead\n",
      "\n",
      "See the caveats in the documentation: https://pandas.pydata.org/pandas-docs/stable/user_guide/indexing.html#returning-a-view-versus-a-copy\n",
      "  df['TP_DEPENDENCIA'] = df['TP_DEPENDENCIA'].map({1: 'Publica',\n"
     ]
    }
   ],
   "source": [
    "df['TP_DEPENDENCIA'] = df['TP_DEPENDENCIA'].map({1: 'Publica',\n",
    "                                               2: 'Publica',\n",
    "                                               3: 'Publica',\n",
    "                                               4: 'Privada'})"
   ]
  },
  {
   "cell_type": "code",
   "execution_count": 40,
   "id": "a977cee9-4400-421c-a0c0-fed7bc311dda",
   "metadata": {},
   "outputs": [],
   "source": [
    "df.to_csv('../analise-fatorial/data/cedu-20{}.csv'.format(id), sep=';', index=False)"
   ]
  }
 ],
 "metadata": {
  "kernelspec": {
   "display_name": "Python 3 (ipykernel)",
   "language": "python",
   "name": "python3"
  },
  "language_info": {
   "codemirror_mode": {
    "name": "ipython",
    "version": 3
   },
   "file_extension": ".py",
   "mimetype": "text/x-python",
   "name": "python",
   "nbconvert_exporter": "python",
   "pygments_lexer": "ipython3",
   "version": "3.8.17"
  }
 },
 "nbformat": 4,
 "nbformat_minor": 5
}
