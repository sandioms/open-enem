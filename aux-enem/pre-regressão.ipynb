{
 "cells": [
  {
   "cell_type": "code",
   "execution_count": 1,
   "id": "a58c8011-b06b-4448-ac0e-c6e0dbed9cfb",
   "metadata": {},
   "outputs": [],
   "source": [
    "import pandas as pd\n",
    "import numpy as np"
   ]
  },
  {
   "cell_type": "code",
   "execution_count": 2,
   "id": "5fcf63d6-0fed-446d-aa07-bde395a242ce",
   "metadata": {},
   "outputs": [],
   "source": [
    "y = ['09', '10', '11', '12', '13', '14', '15', '16', '17', '18', '19', '20', '21']\n",
    "geral = list()\n",
    "vet = list()\n",
    "x = np.arange(2009, 2022, 1)"
   ]
  },
  {
   "cell_type": "code",
   "execution_count": 5,
   "id": "a5dd6ca9-a0bb-4fc8-a68c-a127d79ff1ba",
   "metadata": {},
   "outputs": [],
   "source": [
    "for i in range(len(y)):\n",
    "    dat = 0 \n",
    "    dat = pd.read_csv('D:/dataset/enem/microdados_enem_20{}/DADOS/dados_enem_20{}.csv'.format(y[i], y[i]), sep=';')\n",
    "    geral.append(dat['TP_DEPENDENCIA_ADM_ESC'].count())\n",
    "    vet.append(dat['TP_DEPENDENCIA_ADM_ESC'].value_counts().values)\n",
    "    \n",
    "df = pd.DataFrame(data=vet, columns=['NU_INS_ESC_PUBLICA', 'NU_INS_ESC_PRIVADA'])\n",
    "df['NU_INS_ESC_GERAL'] = geral\n",
    "df['ANO'] = x\n",
    "df.to_csv('data/serie_historica_nu_insc_adm_enem.csv', sep=',', index=False)"
   ]
  },
  {
   "cell_type": "code",
   "execution_count": 8,
   "id": "f7271d94-2835-4609-8076-4fdc58337996",
   "metadata": {},
   "outputs": [],
   "source": [
    "df = 0\n",
    "geral = list()\n",
    "vet = list()"
   ]
  },
  {
   "cell_type": "code",
   "execution_count": 10,
   "id": "65a5a97a-5254-4dab-8ef0-4c40b14c58e0",
   "metadata": {},
   "outputs": [],
   "source": [
    "for i in range(len(y)):\n",
    "    dat = 0 \n",
    "    dat = pd.read_csv('D:/dataset/enem/microdados_enem_20{}/DADOS/dados_enem_20{}.csv'.format(y[i], y[i]), sep=';')\n",
    "    dat = dat[dat['CO_UF_ESC'] == 15]\n",
    "    geral.append(dat['TP_DEPENDENCIA_ADM_ESC'].count())\n",
    "    vet.append(dat['TP_DEPENDENCIA_ADM_ESC'].value_counts().values)\n",
    "    \n",
    "df = pd.DataFrame(data=vet, columns=['NU_INS_ESC_PUBLICA', 'NU_INS_ESC_PRIVADA'])\n",
    "df['NU_INS_ESC_GERAL'] = geral\n",
    "df['ANO'] = x\n",
    "df.to_csv('data/serie_historica_nu_insc_adm_enem_para.csv', sep=',', index=False)"
   ]
  },
  {
   "cell_type": "code",
   "execution_count": null,
   "id": "c4b61283-9bd1-4ff4-804e-680b3b4cb4b9",
   "metadata": {},
   "outputs": [],
   "source": []
  }
 ],
 "metadata": {
  "kernelspec": {
   "display_name": "Python 3 (ipykernel)",
   "language": "python",
   "name": "python3"
  },
  "language_info": {
   "codemirror_mode": {
    "name": "ipython",
    "version": 3
   },
   "file_extension": ".py",
   "mimetype": "text/x-python",
   "name": "python",
   "nbconvert_exporter": "python",
   "pygments_lexer": "ipython3",
   "version": "3.8.17"
  }
 },
 "nbformat": 4,
 "nbformat_minor": 5
}
