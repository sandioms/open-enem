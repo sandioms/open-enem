{
 "cells": [
  {
   "cell_type": "code",
   "execution_count": 1,
   "id": "94b8a22e-69ec-4616-8bf8-f06027980cb2",
   "metadata": {},
   "outputs": [],
   "source": [
    "import pandas as pd"
   ]
  },
  {
   "cell_type": "code",
   "execution_count": 2,
   "id": "67956201-f113-40d2-9c6b-e7588737660e",
   "metadata": {},
   "outputs": [],
   "source": [
    "dat = pd.read_csv('data/enem_tp_adm.csv', sep=',')"
   ]
  },
  {
   "cell_type": "code",
   "execution_count": 3,
   "id": "961d8ef8-ed5c-47a5-b175-7dcd9cf94c13",
   "metadata": {},
   "outputs": [],
   "source": [
    "df_x = dat[dat['Ano'] == 2019]\n",
    "df_y = dat[dat['Ano'] == 2020]\n",
    "df_z = dat[dat['Ano'] == 2021]"
   ]
  },
  {
   "cell_type": "code",
   "execution_count": 33,
   "id": "d1dd71a7-7e12-4d3f-8761-222de2e358b4",
   "metadata": {},
   "outputs": [
    {
     "data": {
      "text/html": [
       "<div>\n",
       "<style scoped>\n",
       "    .dataframe tbody tr th:only-of-type {\n",
       "        vertical-align: middle;\n",
       "    }\n",
       "\n",
       "    .dataframe tbody tr th {\n",
       "        vertical-align: top;\n",
       "    }\n",
       "\n",
       "    .dataframe thead th {\n",
       "        text-align: right;\n",
       "    }\n",
       "</style>\n",
       "<table border=\"1\" class=\"dataframe\">\n",
       "  <thead>\n",
       "    <tr style=\"text-align: right;\">\n",
       "      <th></th>\n",
       "      <th>Ano</th>\n",
       "      <th>CO_UF_PROVA</th>\n",
       "      <th>TP_ADM_GERAL</th>\n",
       "      <th>TP_ADM_PUBLICA</th>\n",
       "      <th>TP_ADM_PRIVADA</th>\n",
       "    </tr>\n",
       "  </thead>\n",
       "  <tbody>\n",
       "    <tr>\n",
       "      <th>0</th>\n",
       "      <td>2019</td>\n",
       "      <td>11</td>\n",
       "      <td>58639</td>\n",
       "      <td>57996</td>\n",
       "      <td>643</td>\n",
       "    </tr>\n",
       "    <tr>\n",
       "      <th>1</th>\n",
       "      <td>2019</td>\n",
       "      <td>12</td>\n",
       "      <td>38645</td>\n",
       "      <td>38306</td>\n",
       "      <td>339</td>\n",
       "    </tr>\n",
       "    <tr>\n",
       "      <th>2</th>\n",
       "      <td>2019</td>\n",
       "      <td>13</td>\n",
       "      <td>118144</td>\n",
       "      <td>116551</td>\n",
       "      <td>1593</td>\n",
       "    </tr>\n",
       "    <tr>\n",
       "      <th>3</th>\n",
       "      <td>2019</td>\n",
       "      <td>14</td>\n",
       "      <td>12956</td>\n",
       "      <td>12734</td>\n",
       "      <td>222</td>\n",
       "    </tr>\n",
       "    <tr>\n",
       "      <th>4</th>\n",
       "      <td>2019</td>\n",
       "      <td>15</td>\n",
       "      <td>279593</td>\n",
       "      <td>273250</td>\n",
       "      <td>6343</td>\n",
       "    </tr>\n",
       "  </tbody>\n",
       "</table>\n",
       "</div>"
      ],
      "text/plain": [
       "    Ano  CO_UF_PROVA  TP_ADM_GERAL  TP_ADM_PUBLICA  TP_ADM_PRIVADA\n",
       "0  2019           11         58639           57996             643\n",
       "1  2019           12         38645           38306             339\n",
       "2  2019           13        118144          116551            1593\n",
       "3  2019           14         12956           12734             222\n",
       "4  2019           15        279593          273250            6343"
      ]
     },
     "execution_count": 33,
     "metadata": {},
     "output_type": "execute_result"
    }
   ],
   "source": [
    "dat.head()"
   ]
  },
  {
   "cell_type": "code",
   "execution_count": 32,
   "id": "89ad54c3-4c0c-4c72-8a00-25db9584fb18",
   "metadata": {},
   "outputs": [],
   "source": [
    "d = pd.DataFrame()\n",
    "\n",
    "d['CO_UF_PROVA'] = df_x['CO_UF_PROVA']\n",
    "d['VARIACAO_2019_2020'] = ((df_y['TP_ADM_GERAL'].values * 100) / df_x['TP_ADM_GERAL'].values) - 100\n",
    "d['VARIACAO_2019_2021'] = ((df_z['TP_ADM_GERAL'].values * 100) / df_x['TP_ADM_GERAL'].values) - 100\n",
    "d.to_csv('data/variacao_inscritos_enem_2019_a_2021.csv', sep=',', index=False)"
   ]
  },
  {
   "cell_type": "code",
   "execution_count": 34,
   "id": "3ca6af43-7aaa-455a-83c7-6231b0fb9f8f",
   "metadata": {},
   "outputs": [],
   "source": [
    "d = pd.DataFrame()\n",
    "\n",
    "d['CO_UF_PROVA'] = df_x['CO_UF_PROVA']\n",
    "d['VARIACAO_2019_2020'] = ((df_y['TP_ADM_PUBLICA'].values * 100) / df_x['TP_ADM_PUBLICA'].values) - 100\n",
    "d['VARIACAO_2019_2021'] = ((df_z['TP_ADM_PUBLICA'].values * 100) / df_x['TP_ADM_PUBLICA'].values) - 100\n",
    "d.to_csv('data/variacao_inscritos_enem_publica_2019_a_2021.csv', sep=',', index=False)"
   ]
  },
  {
   "cell_type": "code",
   "execution_count": 35,
   "id": "f8230144-f5c1-4601-afa8-412d8b0bacd9",
   "metadata": {},
   "outputs": [],
   "source": [
    "d = pd.DataFrame()\n",
    "\n",
    "d['CO_UF_PROVA'] = df_x['CO_UF_PROVA']\n",
    "d['VARIACAO_2019_2020'] = ((df_y['TP_ADM_PRIVADA'].values * 100) / df_x['TP_ADM_PRIVADA'].values) - 100\n",
    "d['VARIACAO_2019_2021'] = ((df_z['TP_ADM_PRIVADA'].values * 100) / df_x['TP_ADM_PRIVADA'].values) - 100\n",
    "d.to_csv('data/variacao_inscritos_enem_privada_2019_a_2021.csv', sep=',', index=False)"
   ]
  }
 ],
 "metadata": {
  "kernelspec": {
   "display_name": "Python 3 (ipykernel)",
   "language": "python",
   "name": "python3"
  },
  "language_info": {
   "codemirror_mode": {
    "name": "ipython",
    "version": 3
   },
   "file_extension": ".py",
   "mimetype": "text/x-python",
   "name": "python",
   "nbconvert_exporter": "python",
   "pygments_lexer": "ipython3",
   "version": "3.10.6"
  }
 },
 "nbformat": 4,
 "nbformat_minor": 5
}
